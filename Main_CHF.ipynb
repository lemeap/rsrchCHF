{
 "cells": [
  {
   "cell_type": "code",
   "execution_count": null,
   "source": [
    "# 분석 환경 모듈\r\n",
    "import numpy as np\r\n",
    "import pandas as pd\r\n",
    "import psycopg2 as pg\r\n",
    "import time\r\n",
    "import matplotlib\r\n",
    "import matplotlib.pyplot as plt\r\n",
    "from matplotlib import style\r\n",
    "\r\n",
    "# 데이터 분석 모듈\r\n",
    "from CoolProp.CoolProp import PropsSI\r\n",
    "from sklearn.preprocessing import MinMaxScaler, QuantileTransformer, PolynomialFeatures\r\n",
    "from sklearn.metrics import mean_absolute_error, mean_squared_error\r\n",
    "from sklearn.linear_model import LinearRegression\r\n",
    "from scipy.integrate import ode\r\n",
    "\r\n",
    "# 내가 만든 모듈 임포트\r\n",
    "from Model import *\r\n",
    "from PhysicalProperty import *\r\n",
    "from StructuredQuery import *\r\n",
    "from Numeric import *\r\n",
    "\r\n",
    "style.use('seaborn-talk')\r\n",
    "krfont = {'family':'Times New Roman', 'weight':'bold', 'size':10}\r\n",
    "matplotlib.rc('font', **krfont)\r\n",
    "matplotlib.rcParams['axes.unicode_minus'] = False"
   ],
   "outputs": [],
   "metadata": {}
  },
  {
   "cell_type": "code",
   "execution_count": null,
   "source": [
    "#############################################################\r\n",
    "###################### CHF 계산 과정 ############################\r\n",
    "#############################################################\r\n",
    "\r\n",
    "sql = StructuredQuery()\r\n",
    "pro = PhysicalProperty()\r\n",
    "mod = ModelOSV()"
   ],
   "outputs": [],
   "metadata": {}
  },
  {
   "cell_type": "code",
   "execution_count": null,
   "source": [
    "# CHF 데이터베이스 연결\r\n",
    "# SQL 연결 쿼리문\r\n",
    "(conn, db_engine) = sql.connect('localhost', 'Research', 'postgres', '5432', '1234')\r\n",
    "\r\n",
    "# 연결 확인\r\n",
    "print(\"PostgreSQL에 Research Database에 연결을 완료하였습니다.\", conn)\r\n",
    "print(db_engine)\r\n",
    "\r\n",
    "# OSV 데이터베이스 연결\r\n",
    "load_chf_query = \"SELECT * FROM rawdata_chf_park_tb ORDER BY run_id LIMIT 2000\" # Water CHF Table 10500개\r\n",
    "#load_chf_query = \"SELECT * FROM rawdata_chf_r12_tb\" # R12 CHF Table 10500개\r\n",
    "chf_tb = sql.read_sql(load_chf_query, db_engine)"
   ],
   "outputs": [],
   "metadata": {}
  },
  {
   "cell_type": "code",
   "execution_count": null,
   "source": [
    "# Rawdata에서 Physical property 추가 (for water)\r\n",
    "chf_tb['pcrit'] = round(chf_tb[['refri']].apply(lambda x: PropsSI(x[0],'pcrit') * 10**-5, axis=1),6) # [bar]\r\n",
    "chf_tb['tsat'] = round(chf_tb[['p', 'refri']].apply(lambda x: PropsSI('T', 'P', x[0] * 1e5, 'Q', 0, x[1]), axis=1),6) # [K]\r\n",
    "chf_tb['kf'] = round(chf_tb[['p', 'refri']].apply(lambda x: PropsSI('L', 'P', x[0] * 1e5, 'Q', 0, x[1]), axis=1),6) # [W/mK]\r\n",
    "chf_tb['kv'] = round(chf_tb[['p', 'refri']].apply(lambda x: PropsSI('L', 'P', x[0] * 1e5, 'Q', 1, x[1]), axis=1),6) # [W/mK]\r\n",
    "chf_tb['muf'] = round(chf_tb[['p', 'refri']].apply(lambda x: PropsSI('V', 'P', x[0] * 1e5, 'Q', 0, x[1]), axis=1),12) #  [Pa s]\r\n",
    "chf_tb['muv'] = round(chf_tb[['p', 'refri']].apply(lambda x: PropsSI('V', 'P', x[0] * 1e5, 'Q', 1, x[1]), axis=1),12) # [Pa s]\r\n",
    "chf_tb['hfo'] = round(chf_tb[['p', 'refri']].apply(lambda x: PropsSI('H', 'P', x[0] * 1e5, 'Q', 0, x[1]), axis=1),6) # [J/kgK]\r\n",
    "chf_tb['hgo'] = round(chf_tb[['p', 'refri']].apply(lambda x: PropsSI('H', 'P', x[0] * 1e5, 'Q', 1, x[1]), axis=1),6) #[J/kgK]\r\n",
    "chf_tb['lam'] = round(chf_tb['hgo'] - chf_tb['hfo'],6) # [J/kgK]\r\n",
    "chf_tb['rhof'] = round(chf_tb[['p', 'refri']].apply(lambda x: PropsSI('D', 'P', x[0] * 1e5, 'Q', 0, x[1]), axis=1),6) #[kg/m3]\r\n",
    "chf_tb['rhov'] = round(chf_tb[['p', 'refri']].apply(lambda x: PropsSI('D', 'P', x[0] * 1e5, 'Q', 1, x[1]), axis=1),6) # [kg/m3]\r\n",
    "chf_tb['v'] = round(chf_tb['g'] / chf_tb['rhof'],6) # [m/s]\r\n",
    "chf_tb['cpf'] = round(chf_tb[['p', 'refri']].apply(lambda x: PropsSI('C', 'P', x[0] * 1e5, 'Q', 0, x[1]), axis=1),6) # [J/kgK]\r\n",
    "chf_tb['cpv'] = round(chf_tb[['p', 'refri']].apply(lambda x: PropsSI('C', 'P', x[0] * 1e5, 'Q', 1, x[1]), axis=1),6) # [J/kgK]\r\n",
    "chf_tb['sigma'] = round(chf_tb[['p', 'refri']].apply(lambda x: PropsSI('I', 'P', x[0] * 1e5, 'Q', 0, x[1]), axis=1),6) # [N/m]\r\n",
    "chf_tb['dtin'] = round(chf_tb[['degsubin', 'cpf', 'cpv']].apply(lambda x: x[0]*1e3/x[1] if x[0] > 0 else x[0]*1e3/x[2], axis=1),6)\r\n",
    "chf_tb['rdcp'] = round(chf_tb['p']/chf_tb['pcrit'],6)\r\n",
    "\r\n",
    "# Rawdata에서 Dimensionless number 추가\r\n",
    "chf_tb['xi'] = round(chf_tb[['cpf', 'dtin', 'lam']].apply(lambda x: pro.calXi(x[0], x[1], x[2]), axis = 1),6)\r\n",
    "chf_tb['xout'] = round(chf_tb[['q', 'doi', 'dio', 'geo', 'hsur', 'g', 'cpf', 'lam', 'dtin', 'lh']].apply(lambda x: pro.calXout(x[0], x[1], x[2], x[3], x[4], x[5], x[6], x[7], x[8], x[9]), axis=1),6)\r\n",
    "chf_tb['de'] = round(chf_tb[['doi', 'dio', 'geo', 'hsur', 'dh']].apply(lambda x: pro.calDe(x[0], x[1], x[2], x[3], x[4]), axis=1),6)\r\n",
    "chf_tb['pe'] = round(chf_tb[['dh', 'g', 'cpf', 'kf']].apply(lambda x: pro.calPe(x[0], x[1], x[2], x[3]), axis=1),6)\r\n",
    "chf_tb['re'] = round(chf_tb[['g', 'dh', 'muf']].apply(lambda x: pro.calRe(x[0], x[1], x[2]), axis=1),6)\r\n",
    "chf_tb['we'] = round(chf_tb[['rhof', 'v', 'dh', 'sigma']].apply(lambda x: pro.calWe(x[0], x[1], x[2], x[3]), axis=1),6)\r\n",
    "chf_tb['bd'] = round(chf_tb[['rhof', 'rhov', 'dh', 'sigma']].apply(lambda x: pro.calBd(x[0], x[1], x[2], x[3]), axis=1),6)\r\n",
    "chf_tb['bo'] = round(chf_tb[['q', 'lam', 'g']].apply(lambda x: pro.calBo(x[0], x[1], x[2]), axis = 1),6)\r\n",
    "chf_tb['fr'] = round(chf_tb[['v', 'dh']].apply(lambda x: pro.calFr(x[0], x[1]), axis=1),6)\r\n",
    "chf_tb['ca'] = round(chf_tb[['muf', 'v', 'sigma', 'rhof']].apply(lambda x: pro.calCa(x[0], x[1], x[2], x[3]), axis=1),6)\r\n",
    "chf_tb['pr'] = round(chf_tb[['cpf', 'muf', 'kf']].apply(lambda x: pro.calPr(x[0], x[1], x[2]), axis=1),6)\r\n",
    "\r\n",
    "print(\"chf_tb에 Physical property 계산 완료\")"
   ],
   "outputs": [],
   "metadata": {}
  },
  {
   "cell_type": "code",
   "execution_count": null,
   "source": [
    "# OSV, CHF 설정 모델 삽입 문구\r\n",
    "\r\n",
    "print('OSV correlation을 선택하시오: ')\r\n",
    "print('(1) Saha and Zuber  (2) Modified Saha and Zuber  (3) Unal')\r\n",
    "print('(4) Levy  (5) Bowring  (6) Jeong')\r\n",
    "m_idx = int(input('-----너의 선택은? : '))\r\n",
    "\r\n",
    "print('계산 방식을 선택하시오: ')\r\n",
    "print('(1) Gauss-Jordan method  (2) exp_Heat_flux HW  (3) cal_Heat_flux HW (4) Bisection (Kim)')\r\n",
    "cal_idx = int(input('-----너의 선택은? : '))"
   ],
   "outputs": [],
   "metadata": {}
  },
  {
   "cell_type": "code",
   "execution_count": null,
   "source": [
    "# 결과테이블 새로 생성\r\n",
    "res_tb = chf_tb\r\n",
    "\r\n",
    "# 모델별로 XOSV를 계산하기 위한 알고리즘\r\n",
    "# def sub_xt_return(p, pcrit, dh, g, lam, m_idx):\r\n",
    "if m_idx == 1:\r\n",
    "    nm = 'sz'\r\n",
    "    for i, row in res_tb.iterrows():\r\n",
    "        res_tb.loc[i, 'dt_sz'], res_tb.loc[i, 'x_sz'] = mod.calSahaZuber(res_tb.loc[i, 'q'], res_tb.loc[i, 'rhof'], res_tb.loc[i, 'dh'], res_tb.loc[i, 'g'], \r\n",
    "                                               res_tb.loc[i, 'cpf'], res_tb.loc[i, 'kf'], res_tb.loc[i, 'pe'], res_tb.loc[i, 'lam'])\r\n",
    "        res_tb.loc[i,'st_cal'] = res_tb.loc[i,'q']* 10 ** 6 / (res_tb.loc[i,'g'] * res_tb.loc[i,'cpf'] * res_tb.loc[i,'dt_sz'])\r\n",
    "    print(\"Saha and Zuber correlation에 대한 St, Xosv 계산이 모두 끝났습니다.\")\r\n",
    "elif m_idx == 2:\r\n",
    "    nm = 'psz'\r\n",
    "    for i, row in res_tb.iterrows():\r\n",
    "        res_tb.loc[i, 'dt_psz'], res_tb.loc[i, 'x_psz'] = mod.calParkSahaZuber(res_tb.loc[i, 'q'], res_tb.loc[i, 'rhof'], res_tb.loc[i, 'dh'], res_tb.loc[i, 'g'],\r\n",
    "                                               res_tb.loc[i, 'cpf'], res_tb.loc[i, 'kf'], res_tb.loc[i, 'pe'], res_tb.loc[i, 'lam'])\r\n",
    "        res_tb.loc[i,'st_cal'] = res_tb.loc[i,'q'] * 10 ** 6 / (res_tb.loc[i,'g'] * res_tb.loc[i,'cpf'] * res_tb.loc[i,'dt_psz'])\r\n",
    "    print(\"Park, Saha and Zuber correlation에 대한 St, Xosv 계산이 모두 끝났습니다.\")\r\n",
    "elif m_idx == 3:\r\n",
    "    nm = 'unal'\r\n",
    "    for i, row in res_tb.iterrows():\r\n",
    "        res_tb.loc[i, 'dt_unal'], res_tb.loc[i, 'x_unal'] = mod.calUnal(res_tb.loc[i, 'q'], res_tb.loc[i, 'pr'], res_tb.loc[i, 'dh'], res_tb.loc[i, 'v'],\r\n",
    "                                            res_tb.loc[i, 'cpf'], res_tb.loc[i, 'kf'], res_tb.loc[i, 're'], res_tb.loc[i, 'refri'], res_tb.loc[i, 'lam'])\r\n",
    "        res_tb.loc[i,'st_cal'] = res_tb.loc[i,'q'] * 10 ** 6 / (res_tb.loc[i,'g'] * res_tb.loc[i,'cpf'] * res_tb.loc[i,'dt_unal'])\r\n",
    "    print(\"Unal correlation에 대한 St, Xosv 계산이 모두 끝났습니다.\")\r\n",
    "elif m_idx == 4:\r\n",
    "    nm = 'levy'\r\n",
    "    for i, row in res_tb.iterrows():\r\n",
    "        res_tb.loc[i, 'dt_levy'], res_tb.loc[i, 'x_levy'] = mod.calLevy(res_tb.loc[i, 'sigma'], res_tb.loc[i, 'dh'], res_tb.loc[i, 'rhof'], res_tb.loc[i, 'muf'],\r\n",
    "                                            res_tb.loc[i, 'kf'], res_tb.loc[i, 're'], res_tb.loc[i, 'pr'], res_tb.loc[i, 'cpf'],\r\n",
    "                                            res_tb.loc[i, 'g'], res_tb.loc[i, 'q'], res_tb.loc[i, 'lam'], res_tb.loc[i, 'v'])\r\n",
    "        res_tb.loc[i,'st_cal'] = res_tb.loc[i,'q']* 10 ** 6 / (res_tb.loc[i,'g'] * res_tb.loc[i,'cpf'] * res_tb.loc[i,'dt_levy'])\r\n",
    "    print(\"Levy Model에 대한 St, Xosv 계산이 모두 끝났습니다.\")\r\n",
    "elif m_idx == 5:\r\n",
    "    nm = 'bowr'\r\n",
    "    for i, row in res_tb.iterrows():\r\n",
    "        res_tb.loc[i, 'dt_bowr'], res_tb.loc[i, 'x_bowr'] = mod.calBowring(res_tb.loc[i, 'p'], res_tb.loc[i, 'q'], res_tb.loc[i, 'v'], res_tb.loc[i, 'lam'],\r\n",
    "                                                  res_tb.loc[i, 'cpf'])\r\n",
    "        res_tb.loc[i,'st_cal'] = res_tb.loc[i,'q'] * 10 ** 6 / (res_tb.loc[i,'g'] * res_tb.loc[i,'cpf'] * res_tb.loc[i,'dt_bowr'])\r\n",
    "    print(\"Bowring correlation에 대한 St, Xosv 계산이 모두 끝났습니다.\")\r\n",
    "else:\r\n",
    "    nm = 'js'\r\n",
    "    for i, row in res_tb.iterrows():\r\n",
    "        res_tb.loc[i, 'dt_js'], res_tb.loc[i, 'x_js'] = mod.calJeong(res_tb.loc[i, 'q'], res_tb.loc[i, 'rhof'], res_tb.loc[i, 'rhov'], res_tb.loc[i, 'dh'], res_tb.loc[i, 'v'],\r\n",
    "                                           res_tb.loc[i, 'cpf'], res_tb.loc[i, 'kf'], res_tb.loc[i, 'pe'], res_tb.loc[i, 'lam'],res_tb.loc[i, 'pr'],res_tb.loc[i, 'we'],res_tb.loc[i, 'ca'])\r\n",
    "        res_tb.loc[i,'st_cal'] = res_tb.loc[i,'q'] * 10 ** 6 / (res_tb.loc[i,'g'] * res_tb.loc[i,'cpf'] * res_tb.loc[i,'dt_js'])\r\n",
    "    print(\"Jeong and Shim correlation에 대한 St, Xosv 계산이 모두 끝났습니다.\")    "
   ],
   "outputs": [],
   "metadata": {}
  },
  {
   "cell_type": "code",
   "execution_count": null,
   "source": [
    "# Validation set와  error table 만드는 작업 진행\r\n",
    "val_chf_deng_tb = res_tb.loc[:,['dh','lh', 'p', 'g','q','xi','xe','xout','st_cal', 'rdcp','xt_park']]\r\n",
    "val_chf_park_tb = res_tb.loc[:,['dh','lh', 'p', 'g','q','xi','xe','xout','st_cal', 'rdcp','xt_park']]\r\n",
    "\r\n",
    "# Diverged data의 Xt를 추적하기 위한 테이블\r\n",
    "#val_chf_xt_tb = pd.DataFrame()\r\n",
    "#val_chf_xt_tb.loc[:, 'data_id'] = \"\"\r\n",
    "#val_chf_xt_tb.loc[:, 'cnt_tr'] = \"\"\r\n",
    "\r\n",
    "# 초기 tolerance 설정\r\n",
    "stepsize = 1e-3\r\n",
    "tolerance = 1e-6\r\n",
    "init_xt = 1e-6\r\n",
    "\r\n",
    "# ----------------------------\r\n",
    "# 시작부분 코드\r\n",
    "start_time = time.time()\r\n",
    "print(\"Start calucation of Xt convergence test\")\r\n",
    "\r\n",
    "\r\n",
    "for i in res_tb.index:\r\n",
    "    # xt_cal 초기값 (New 제약조건)\r\n",
    "    if res_tb.loc[i, 'xout'] < 0 or res_tb.loc[i, 'xi'] == 0:\r\n",
    "        val_chf_deng_tb.loc[i, 'xt_cal_old'] = init_xt\r\n",
    "        val_chf_park_tb.loc[i, 'xt_cal_old'] = init_xt\r\n",
    "    else:\r\n",
    "        val_chf_deng_tb.loc[i, 'xt_cal_old'] = res_tb.loc[i, 'xout'] # xt_cal의 초기값은 Exit Quality\r\n",
    "        val_chf_park_tb.loc[i, 'xt_cal_old'] = res_tb.loc[i, 'xout'] # xt_cal의 초기값은 Exit Quality\r\n",
    "\r\n",
    "    if cal_idx == 4:\r\n",
    "        # CHF 모델별로 계산\r\n",
    "        val_chf_deng_tb.loc[i, 'xosv_cal'], val_chf_deng_tb.loc[i, 'xeq'], val_chf_deng_tb.loc[i, 'q_cal'], val_chf_deng_tb.loc[i, 'xt_cal'], val_chf_deng_tb.loc[i, 'alpha'], val_chf_deng_tb.loc[i, 'gamma'], val_chf_deng_tb.loc[i, 'Fxt'], converged = mod.calAlgCHFKim(i, res_tb.loc[i, 'rdcp'], res_tb.loc[i, 'dh'], res_tb.loc[i, 'lh'], res_tb.loc[i, 'g'], res_tb.loc[i, 'q'], val_chf_deng_tb.loc[i, 'xi'], val_chf_deng_tb.loc[i, 'xout'], val_chf_deng_tb.loc[i, 'xt_cal_old'], val_chf_deng_tb.loc[i, 'st_cal'], res_tb.loc[i, 'lam'], modCHF = 'Deng', stepsize = stepsize, tolerance = tolerance) # Deng model\r\n",
    "\r\n",
    "        #일단 임시방편으로 xt_cal 결과가 제로면 0.05로 반환\r\n",
    "        if val_chf_deng_tb.loc[i, 'xt_cal'] == 0 :\r\n",
    "            val_chf_deng_tb.loc[i,'xt_cal'] = 0.05\r\n",
    "        else:\r\n",
    "            pass\r\n",
    "\r\n",
    "        # 나중에 한꺼번에 게산할 수 있도록 개선\r\n",
    "        val_chf_deng_tb.loc[:, 'Zxt'] = np.sqrt(val_chf_deng_tb.loc[:,'g']*val_chf_deng_tb.loc[:,'xt_cal']*(1+val_chf_deng_tb.loc[:,'xt_cal']**2)**3) # Zxt 계산\r\n",
    "        val_chf_deng_tb.loc[:, 'alpha_cal'] = (val_chf_deng_tb.loc[:, 'q_cal'] * np.sqrt(val_chf_deng_tb.loc[:, 'dh'])) / (np.exp(-val_chf_deng_tb.loc[:, 'gamma']*val_chf_deng_tb.loc[:, 'Zxt'])) # alpha_cal 계산\r\n",
    "        val_chf_deng_tb.loc[:, 'gamma_cal'] = -np.log(val_chf_deng_tb.loc[:, 'q_cal'] * np.sqrt(val_chf_deng_tb.loc[:, 'dh']) / (val_chf_deng_tb.loc[:, 'alpha'])) / val_chf_deng_tb.loc[:, 'Zxt'] # gamma_cal 계산\r\n",
    "\r\n",
    "        # Park correlation\r\n",
    "        val_chf_park_tb.loc[i, 'xosv_cal'], val_chf_park_tb.loc[i, 'xeq'], val_chf_park_tb.loc[i, 'q_cal'], val_chf_park_tb.loc[i, 'xt_cal'], val_chf_park_tb.loc[i, 'alpha'], val_chf_park_tb.loc[i, 'gamma'], val_chf_park_tb.loc[i, 'k1'], val_chf_park_tb.loc[i, 'k2'], val_chf_park_tb.loc[i, 'k3'], val_chf_park_tb.loc[i, 'Fxt'], converged = mod.calAlgCHFKim(i, res_tb.loc[i, 'rdcp'], res_tb.loc[i, 'dh'], res_tb.loc[i, 'lh'], res_tb.loc[i, 'g'], res_tb.loc[i, 'q'], val_chf_park_tb.loc[i, 'xi'], val_chf_park_tb.loc[i, 'xout'], val_chf_park_tb.loc[i, 'xt_cal_old'], val_chf_park_tb.loc[i, 'st_cal'], res_tb.loc[i, 'lam'], modCHF = 'Park', stepsize = stepsize, tolerance = tolerance) # Park model\r\n",
    "\r\n",
    "        # 나중에 한꺼번에 게산할 수 있도록 개선\r\n",
    "        val_chf_park_tb.loc[:, 'Zxt'] = np.sqrt(val_chf_park_tb.loc[:,'g']*val_chf_park_tb.loc[:,'xt_cal']*(1+val_chf_park_tb.loc[:,'xt_cal']**2)**3) # Zxt 계산\r\n",
    "        val_chf_park_tb.loc[:, 'alpha_cal'] = (val_chf_park_tb.loc[:, 'q_cal'] * np.sqrt(val_chf_park_tb.loc[:, 'dh'])) / (np.exp(-val_chf_park_tb.loc[:, 'gamma']*val_chf_park_tb.loc[:, 'Zxt'])) # alpha_cal 계산\r\n",
    "        val_chf_park_tb.loc[:, 'gamma_cal'] = -np.log(val_chf_park_tb.loc[:, 'q_cal'] * np.sqrt(val_chf_park_tb.loc[:, 'dh']) / (val_chf_park_tb.loc[:, 'alpha'])) / val_chf_park_tb.loc[:, 'Zxt'] # gamma_cal 계산\r\n",
    "\r\n",
    "        # Error 값 계산\r\n",
    "        val_chf_deng_tb.loc[i, 'q_err'] = round((val_chf_deng_tb.loc[i,'q_cal']/val_chf_deng_tb.loc[i,'q']-1),6)\r\n",
    "        val_chf_park_tb.loc[i, 'q_err'] = round((val_chf_park_tb.loc[i,'q_cal']/val_chf_park_tb.loc[i,'q']-1),6)\r\n",
    "    else:\r\n",
    "        # CHF 모델별로 계산\r\n",
    "        pass\r\n",
    "\r\n",
    "        # Error 값 계산\r\n",
    "        val_chf_deng_tb.loc[i, 'q_err'] = round((val_chf_deng_tb.loc[i,'q_cal']/val_chf_deng_tb.loc[i,'q']-1),6)\r\n",
    "        val_chf_park_tb.loc[i, 'q_err'] = round((val_chf_park_tb.loc[i,'q_cal']/val_chf_park_tb.loc[i,'q']-1),6)\r\n",
    "\r\n",
    "\r\n",
    "# ----------------------------\r\n",
    "# 종료부분 코드\r\n",
    "print(\"start_time\", start_time)\r\n",
    "print(\"--- {} minutes ---\".format(round(time.time() - start_time, 4)/60))"
   ],
   "outputs": [],
   "metadata": {
    "tags": [
     "outputPrepend"
    ]
   }
  },
  {
   "cell_type": "code",
   "execution_count": null,
   "source": [
    "# 데이터를 PostgreSQL로 저장하기\r\n",
    "#sql.write_sql(res_tb, 'chf_prop_tb',db_engine)\r\n",
    "#sql.write_sql(val_chf_deng_tb, 'chf_calid_'+str(cal_idx)+'deng_tb',db_engine)\r\n",
    "#sql.write_sql(val_chf_park_tb, 'chf_calid_'+str(cal_idx)+'park_tb',db_engine)"
   ],
   "outputs": [],
   "metadata": {}
  },
  {
   "cell_type": "code",
   "execution_count": null,
   "source": [
    "def delOutlierZ(data, threshold = 3):\r\n",
    "    \"\"\"\r\n",
    "    data = list\r\n",
    "    thresshold = 표준편차 제한\r\n",
    "    \"\"\"\r\n",
    "    mean = np.mean(data)\r\n",
    "    std = np.std(data)\r\n",
    "    z_score = [(y-mean) / std for y in data]\r\n",
    "    mask = np.where(np.abs(z_score) < threshold)\r\n",
    "    return mask # mask 필터 형태의 값 반환 \r\n",
    "\r\n",
    "# Alpha calcuation function\r\n",
    "# Deng model을 기준으로 alpha, gamma를 계산하는 알고리즘.\r\n",
    "# q ~ Xt를 비선형 회귀 (같은 p에서)\r\n"
   ],
   "outputs": [],
   "metadata": {}
  },
  {
   "cell_type": "code",
   "execution_count": 396,
   "source": [
    "# alpha, gamma 갱신 알고리즘\r\n",
    "# Rdcp 테이블 작성\r\n",
    "df_rdcp = pd.DataFrame(columns=['rdcp','alpha_avg', 'gamma_avg'])\r\n",
    "\r\n",
    "for i, row in enumerate(res_tb.rdcp.unique()):\r\n",
    "    # 같은 압력 조건 샘플\r\n",
    "    mask1 = (val_chf_deng_tb.rdcp == row)\r\n",
    "    smp_tb = val_chf_deng_tb.loc[mask1, ['rdcp','alpha_cal','gamma_cal']]\r\n",
    "    #mask2 = delOutlierZ(tt_tb.alpha_cal, threshold=1)[0] # 이상치 제거하는 알고리즘 추가 필요\r\n",
    "    # alpha_cal 평균 계산\r\n",
    "    df_rdcp.loc[i,'rdcp'] = row\r\n",
    "    df_rdcp.loc[i,'alpha_avg'] = round(np.mean(smp_tb.alpha_cal),6)\r\n",
    "    df_rdcp.loc[i,'gamma_avg'] = round(np.mean(smp_tb.gamma_cal),6)\r\n",
    "    del smp_tb"
   ],
   "outputs": [],
   "metadata": {}
  },
  {
   "cell_type": "code",
   "execution_count": 398,
   "source": [
    "# alpha_avg 다항회귀\r\n",
    "X = np.c_[df_rdcp.loc[:99,'rdcp'], (df_rdcp.loc[:99,'rdcp'])**2]\r\n",
    "y1 = df_rdcp.loc[:99,'alpha_avg']\r\n",
    "y2 = df_rdcp.loc[:99, 'gamma_avg']\r\n",
    "\r\n",
    "# 선형 모델\r\n",
    "model1 = LinearRegression()\r\n",
    "model1.fit(X, y1)\r\n",
    "model2 = LinearRegression()\r\n",
    "model2.fit(X, y2)\r\n",
    "\r\n",
    "model1.coef_[0], model1.intercept_\r\n",
    "\r\n",
    "xs = np.arange(min(df_rdcp.rdcp),max(df_rdcp.rdcp),0.02) # x 범위의 순차값 생성\r\n",
    "ys = xs*model2.coef_[0] + (xs**2)*model2.coef_[1] + model2.intercept_\r\n",
    "# 2차 다항식 회귀\r\n",
    "\r\n",
    "plt.scatter(df_rdcp.loc[:,'rdcp'], df_rdcp.loc[:,'gamma_avg'], alpha=1)\r\n",
    "plt.plot(xs,ys,'r-',lw=3)"
   ],
   "outputs": [
    {
     "output_type": "execute_result",
     "data": {
      "text/plain": [
       "[<matplotlib.lines.Line2D at 0x18b22210310>]"
      ]
     },
     "metadata": {},
     "execution_count": 398
    },
    {
     "output_type": "display_data",
     "data": {
      "text/plain": [
       "<Figure size 748.8x514.8 with 1 Axes>"
      ],
      "image/png": "[encoded data removed]"
     },
     "metadata": {
      "needs_background": "light"
     }
    }
   ],
   "metadata": {}
  },
  {
   "cell_type": "code",
   "execution_count": null,
   "source": [],
   "outputs": [],
   "metadata": {}
  }
 ],
 "metadata": {
  "interpreter": {
   "hash": "e4efffbaf51c39b67b2ae8f1226cd2ee0dd9610494cee8a8182e97691ddb7ade"
  },
  "kernelspec": {
   "name": "python3",
   "display_name": "Python 3.8.5 64-bit ('research': conda)"
  },
  "language_info": {
   "codemirror_mode": {
    "name": "ipython",
    "version": 3
   },
   "file_extension": ".py",
   "mimetype": "text/x-python",
   "name": "python",
   "nbconvert_exporter": "python",
   "pygments_lexer": "ipython3",
   "version": "3.8.5"
  },
  "metadata": {
   "interpreter": {
    "hash": "62ce178902058293a7d860d26d61b92120d7f3e7e565c0e92a0372724dfc04e0"
   }
  }
 },
 "nbformat": 4,
 "nbformat_minor": 2
}